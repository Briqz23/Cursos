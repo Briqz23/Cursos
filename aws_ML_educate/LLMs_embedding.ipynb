{
 "cells": [
  {
   "cell_type": "markdown",
   "id": "95a0ccda",
   "metadata": {},
   "source": [
    "Embedding - Tokens are transformed into numerical vectors. For example, \"Alice\" becomes a vector like [-0.342, 1.547, 0.234, -1.876, 0.765]."
   ]
  },
  {
   "cell_type": "code",
   "execution_count": 13,
   "id": "d27af4a7",
   "metadata": {},
   "outputs": [
    {
     "name": "stderr",
     "output_type": "stream",
     "text": [
      "huggingface/tokenizers: The current process just got forked, after parallelism has already been used. Disabling parallelism to avoid deadlocks...\n",
      "To disable this warning, you can either:\n",
      "\t- Avoid using `tokenizers` before the fork if possible\n",
      "\t- Explicitly set the environment variable TOKENIZERS_PARALLELISM=(true | false)\n"
     ]
    },
    {
     "name": "stdout",
     "output_type": "stream",
     "text": [
      "\n",
      "\u001b[1m[\u001b[0m\u001b[34;49mnotice\u001b[0m\u001b[1;39;49m]\u001b[0m\u001b[39;49m A new release of pip is available: \u001b[0m\u001b[31;49m24.3.1\u001b[0m\u001b[39;49m -> \u001b[0m\u001b[32;49m25.1.1\u001b[0m\n",
      "\u001b[1m[\u001b[0m\u001b[34;49mnotice\u001b[0m\u001b[1;39;49m]\u001b[0m\u001b[39;49m To update, run: \u001b[0m\u001b[32;49mpip3 install --upgrade pip\u001b[0m\n",
      "Note: you may need to restart the kernel to use updated packages.\n",
      "tokens: ['a', 'Ġyoung', 'Ġgirl', 'Ġnamed', 'ĠAlice', 'Ġsits', 'Ġbored', 'Ġby', 'Ġa', 'Ġriver', 'bank', '...']\n"
     ]
    }
   ],
   "source": [
    "# Tokenization using Hugging Face's Transformers\n",
    "%pip install transformers hf_xet --quiet\n",
    "from transformers import AutoTokenizer\n",
    "tokenizer = AutoTokenizer.from_pretrained(\"openai-community/gpt2\")\n",
    "tokens = tokenizer.tokenize(\"a young girl named Alice sits bored by a riverbank...\")\n",
    "print(f'tokens: {tokens}')\n"
   ]
  },
  {
   "cell_type": "code",
   "execution_count": 15,
   "id": "4cb0ed75",
   "metadata": {},
   "outputs": [
    {
     "name": "stdout",
     "output_type": "stream",
     "text": [
      "tensor([[[-0.1422, -0.0903, -0.2047,  ..., -0.1065, -0.0782,  0.0224],\n",
      "         [ 0.1639, -0.0167, -0.4816,  ...,  0.3005,  0.2550, -0.1709],\n",
      "         [ 0.2465,  0.3846, -0.2994,  ...,  0.3477, -0.1493, -0.0842],\n",
      "         ...,\n",
      "         [-0.1187,  0.3841, -2.6101,  ..., -0.0946, -0.1120, -0.3397],\n",
      "         [-0.5066,  0.1533, -2.3928,  ..., -0.0253, -0.0935, -0.3058],\n",
      "         [-0.1265, -0.6703, -0.8038,  ...,  0.1576, -0.1944, -0.2277]]],\n",
      "       grad_fn=<ViewBackward0>)\n"
     ]
    }
   ],
   "source": [
    "# Embedding and Processing with a Transformer Model\n",
    "from transformers import AutoModel\n",
    "model = AutoModel.from_pretrained(\"openai-community/gpt2\")\n",
    "inputs = tokenizer(\"A young girl named Alice sits bored by a riverbank...\", return_tensors=\"pt\")\n",
    "outputs = model(**inputs)\n",
    "last_hidden_states = outputs.last_hidden_state\n",
    "\n",
    "print(last_hidden_states)"
   ]
  },
  {
   "cell_type": "markdown",
   "id": "41a9ff16",
   "metadata": {},
   "source": [
    "    Self-Attention - The model calculates attention scores for each token, understanding their importance in context.\n",
    "    Layered Processing - Multiple neural network layers process these embeddings, enhancing understanding at each step.\n",
    "    Encoders and Decoders - The encoder processes input text into embeddings, and the decoder generates output text, using strategies like Greedy Decoding or Beam Search."
   ]
  },
  {
   "cell_type": "code",
   "execution_count": 16,
   "id": "93988108",
   "metadata": {},
   "outputs": [
    {
     "data": {
      "image/png": "[encoded data removed]",
      "text/plain": [
       "<Figure size 640x480 with 2 Axes>"
      ]
     },
     "metadata": {},
     "output_type": "display_data"
    }
   ],
   "source": [
    "# Visualization of Embeddings (Simplified Example)\n",
    "import matplotlib.pyplot as plt\n",
    "plt.imshow(last_hidden_states.detach().numpy()[0], cmap='viridis')\n",
    "plt.colorbar()\n",
    "plt.show()"
   ]
  },
  {
   "cell_type": "markdown",
   "id": "dea22596",
   "metadata": {},
   "source": []
  }
 ],
 "metadata": {
  "kernelspec": {
   "display_name": "base",
   "language": "python",
   "name": "python3"
  },
  "language_info": {
   "codemirror_mode": {
    "name": "ipython",
    "version": 3
   },
   "file_extension": ".py",
   "mimetype": "text/x-python",
   "name": "python",
   "nbconvert_exporter": "python",
   "pygments_lexer": "ipython3",
   "version": "3.12.2"
  }
 },
 "nbformat": 4,
 "nbformat_minor": 5
}
